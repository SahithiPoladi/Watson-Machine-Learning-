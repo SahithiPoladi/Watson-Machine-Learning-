{
    "nbformat_minor": 1, 
    "cells": [
        {
            "execution_count": 9, 
            "cell_type": "code", 
            "metadata": {}, 
            "outputs": [
                {
                    "output_type": "stream", 
                    "name": "stdout", 
                    "text": "Collecting wget\n  Downloading https://files.pythonhosted.org/packages/47/6a/62e288da7bcda82b935ff0c6cfe542970f04e29c756b0e147251b2fb251f/wget-3.2.zip\nBuilding wheels for collected packages: wget\n  Running setup.py bdist_wheel for wget ... \u001b[?25ldone\n\u001b[?25h  Stored in directory: /home/spark/shared/.cache/pip/wheels/40/15/30/7d8f7cea2902b4db79e3fea550d7d7b85ecb27ef992b618f3f\nSuccessfully built wget\n\u001b[31mpyspark 2.3.0 requires py4j==0.10.6, which is not installed.\u001b[0m\n\u001b[31mtensorflow 1.3.0 requires tensorflow-tensorboard<0.2.0,>=0.1.0, which is not installed.\u001b[0m\nInstalling collected packages: wget\n\u001b[31mException:\nTraceback (most recent call last):\n  File \"/opt/ibm/conda/miniconda3/lib/python3.5/site-packages/pip/_internal/basecommand.py\", line 228, in main\n    status = self.run(options, args)\n  File \"/opt/ibm/conda/miniconda3/lib/python3.5/site-packages/pip/_internal/commands/install.py\", line 335, in run\n    use_user_site=options.use_user_site,\n  File \"/opt/ibm/conda/miniconda3/lib/python3.5/site-packages/pip/_internal/req/__init__.py\", line 49, in install_given_reqs\n    **kwargs\n  File \"/opt/ibm/conda/miniconda3/lib/python3.5/site-packages/pip/_internal/req/req_install.py\", line 748, in install\n    use_user_site=use_user_site, pycompile=pycompile,\n  File \"/opt/ibm/conda/miniconda3/lib/python3.5/site-packages/pip/_internal/req/req_install.py\", line 961, in move_wheel_files\n    warn_script_location=warn_script_location,\n  File \"/opt/ibm/conda/miniconda3/lib/python3.5/site-packages/pip/_internal/wheel.py\", line 216, in move_wheel_files\n    prefix=prefix,\n  File \"/opt/ibm/conda/miniconda3/lib/python3.5/site-packages/pip/_internal/locations.py\", line 165, in distutils_scheme\n    i.finalize_options()\n  File \"/opt/ibm/conda/miniconda3/lib/python3.5/distutils/command/install.py\", line 251, in finalize_options\n    raise DistutilsOptionError(\"can't combine user with prefix, \"\ndistutils.errors.DistutilsOptionError: can't combine user with prefix, exec_prefix/home, or install_(plat)base\u001b[0m\n"
                }
            ], 
            "source": "!pip install wget --user"
        }, 
        {
            "execution_count": 10, 
            "cell_type": "code", 
            "metadata": {}, 
            "outputs": [
                {
                    "output_type": "stream", 
                    "name": "stdout", 
                    "text": "\r\nUsage:   \r\n  pip install [options] <requirement specifier> [package-index-options] ...\r\n  pip install [options] -r <requirements file> [package-index-options] ...\r\n  pip install [options] [-e] <vcs project url> ...\r\n  pip install [options] [-e] <local project path> ...\r\n  pip install [options] <archive url/path> ...\r\n\r\nno such option: --upgarde\r\n"
                }
            ], 
            "source": "!pip install --upgarde tensorflow"
        }, 
        {
            "execution_count": 11, 
            "cell_type": "code", 
            "metadata": {}, 
            "outputs": [
                {
                    "output_type": "stream", 
                    "name": "stdout", 
                    "text": "Collecting upgrade\n\u001b[31m  Could not find a version that satisfies the requirement upgrade (from versions: )\u001b[0m\n\u001b[31mNo matching distribution found for upgrade\u001b[0m\n"
                }
            ], 
            "source": "!pip install upgrade tensorflow"
        }, 
        {
            "execution_count": 12, 
            "cell_type": "code", 
            "metadata": {}, 
            "outputs": [
                {
                    "output_type": "stream", 
                    "name": "stdout", 
                    "text": "Collecting tensorflow\n\u001b[?25l  Downloading https://files.pythonhosted.org/packages/b1/ad/48395de38c1e07bab85fc3bbec045e11ae49c02a4db0100463dd96031947/tensorflow-1.12.0-cp35-cp35m-manylinux1_x86_64.whl (83.1MB)\n\u001b[K    100% |################################| 83.1MB 235kB/s eta 0:00:01\n\u001b[?25hCollecting protobuf>=3.6.1 (from tensorflow)\n\u001b[?25l  Downloading https://files.pythonhosted.org/packages/bf/d4/db7296a1407cad69f043537ba1e05afab3646451a066ead7a314d8714388/protobuf-3.6.1-cp35-cp35m-manylinux1_x86_64.whl (1.1MB)\n\u001b[K    100% |################################| 1.1MB 4.1MB/s eta 0:00:01\n\u001b[?25hCollecting grpcio>=1.8.6 (from tensorflow)\n\u001b[?25l  Downloading https://files.pythonhosted.org/packages/ea/72/dbdce5ba0eb2ee22069430f1c18c2fef22b4f6ffbf188ab2d416695f3992/grpcio-1.18.0-cp35-cp35m-manylinux1_x86_64.whl (10.6MB)\n\u001b[K    100% |################################| 10.6MB 1.6MB/s eta 0:00:01\n\u001b[?25hCollecting tensorboard<1.13.0,>=1.12.0 (from tensorflow)\n\u001b[?25l  Downloading https://files.pythonhosted.org/packages/07/53/8d32ce9471c18f8d99028b7cef2e5b39ea8765bd7ef250ca05b490880971/tensorboard-1.12.2-py3-none-any.whl (3.0MB)\n\u001b[K    100% |################################| 3.1MB 3.7MB/s eta 0:00:01\n\u001b[?25hCollecting wheel>=0.26 (from tensorflow)\n  Downloading https://files.pythonhosted.org/packages/ff/47/1dfa4795e24fd6f93d5d58602dd716c3f101cfd5a77cd9acbe519b44a0a9/wheel-0.32.3-py2.py3-none-any.whl\nCollecting absl-py>=0.1.6 (from tensorflow)\n\u001b[?25l  Downloading https://files.pythonhosted.org/packages/31/bc/ab68120d1d89ae23b694a55fe2aece2f91194313b71f9b05a80b32d3c24b/absl-py-0.7.0.tar.gz (96kB)\n\u001b[K    100% |################################| 102kB 6.0MB/s ta 0:00:01\n\u001b[?25hCollecting gast>=0.2.0 (from tensorflow)\n  Downloading https://files.pythonhosted.org/packages/4e/35/11749bf99b2d4e3cceb4d55ca22590b0d7c2c62b9de38ac4a4a7f4687421/gast-0.2.2.tar.gz\nCollecting termcolor>=1.1.0 (from tensorflow)\n  Downloading https://files.pythonhosted.org/packages/8a/48/a76be51647d0eb9f10e2a4511bf3ffb8cc1e6b14e9e4fab46173aa79f981/termcolor-1.1.0.tar.gz\nCollecting numpy>=1.13.3 (from tensorflow)\n\u001b[?25l  Downloading https://files.pythonhosted.org/packages/ad/15/690c13ae714e156491392cdbdbf41b485d23c285aa698239a67f7cfc9e0a/numpy-1.16.1-cp35-cp35m-manylinux1_x86_64.whl (17.2MB)\n\u001b[K    100% |################################| 17.2MB 1.2MB/s eta 0:00:01\n\u001b[?25hCollecting keras-preprocessing>=1.0.5 (from tensorflow)\n\u001b[?25l  Downloading https://files.pythonhosted.org/packages/c0/bf/0315ef6a9fd3fc2346e85b0ff1f5f83ca17073f2c31ac719ab2e4da0d4a3/Keras_Preprocessing-1.0.9-py2.py3-none-any.whl (59kB)\n\u001b[K    100% |################################| 61kB 3.9MB/s eta 0:00:01\n\u001b[?25hCollecting astor>=0.6.0 (from tensorflow)\n  Downloading https://files.pythonhosted.org/packages/35/6b/11530768cac581a12952a2aad00e1526b89d242d0b9f59534ef6e6a1752f/astor-0.7.1-py2.py3-none-any.whl\nCollecting six>=1.10.0 (from tensorflow)\n  Downloading https://files.pythonhosted.org/packages/73/fb/00a976f728d0d1fecfe898238ce23f502a721c0ac0ecfedb80e0d88c64e9/six-1.12.0-py2.py3-none-any.whl\nCollecting keras-applications>=1.0.6 (from tensorflow)\n\u001b[?25l  Downloading https://files.pythonhosted.org/packages/90/85/64c82949765cfb246bbdaf5aca2d55f400f792655927a017710a78445def/Keras_Applications-1.0.7-py2.py3-none-any.whl (51kB)\n\u001b[K    100% |################################| 61kB 4.4MB/s eta 0:00:01\n\u001b[?25hCollecting setuptools (from protobuf>=3.6.1->tensorflow)\n\u001b[?25l  Downloading https://files.pythonhosted.org/packages/d1/6a/4b2fcefd2ea0868810e92d519dacac1ddc64a2e53ba9e3422c3b62b378a6/setuptools-40.8.0-py2.py3-none-any.whl (575kB)\n\u001b[K    100% |################################| 583kB 5.2MB/s eta 0:00:01\n\u001b[?25hCollecting markdown>=2.6.8 (from tensorboard<1.13.0,>=1.12.0->tensorflow)\n\u001b[?25l  Downloading https://files.pythonhosted.org/packages/7a/6b/5600647404ba15545ec37d2f7f58844d690baf2f81f3a60b862e48f29287/Markdown-3.0.1-py2.py3-none-any.whl (89kB)\n\u001b[K    100% |################################| 92kB 5.4MB/s eta 0:00:01\n\u001b[?25hCollecting werkzeug>=0.11.10 (from tensorboard<1.13.0,>=1.12.0->tensorflow)\n\u001b[?25l  Downloading https://files.pythonhosted.org/packages/20/c4/12e3e56473e52375aa29c4764e70d1b8f3efa6682bef8d0aae04fe335243/Werkzeug-0.14.1-py2.py3-none-any.whl (322kB)\n\u001b[K    100% |################################| 327kB 4.1MB/s eta 0:00:01\n\u001b[?25hCollecting h5py (from keras-applications>=1.0.6->tensorflow)\n\u001b[?25l  Downloading https://files.pythonhosted.org/packages/4c/77/c4933e12dca0f61bcdafc207c7532e1250b8d12719459fd85132f3daa9fd/h5py-2.9.0-cp35-cp35m-manylinux1_x86_64.whl (2.8MB)\n\u001b[K    100% |################################| 2.8MB 3.9MB/s eta 0:00:01\n\u001b[?25hBuilding wheels for collected packages: absl-py, gast, termcolor\n  Running setup.py bdist_wheel for absl-py ... \u001b[?25ldone\n\u001b[?25h  Stored in directory: /home/spark/shared/.cache/pip/wheels/90/db/f8/2c3101f72ef1ad434e4662853174126ce30201a3e163dcbeca\n  Running setup.py bdist_wheel for gast ... \u001b[?25ldone\n\u001b[?25h  Stored in directory: /home/spark/shared/.cache/pip/wheels/5c/2e/7e/a1d4d4fcebe6c381f378ce7743a3ced3699feb89bcfbdadadd\n  Running setup.py bdist_wheel for termcolor ... \u001b[?25ldone\n\u001b[?25h  Stored in directory: /home/spark/shared/.cache/pip/wheels/7c/06/54/bc84598ba1daf8f970247f550b175aaaee85f68b4b0c5ab2c6\nSuccessfully built absl-py gast termcolor\n\u001b[31mpyspark 2.3.0 requires py4j==0.10.6, which is not installed.\u001b[0m\nInstalling collected packages: setuptools, six, protobuf, grpcio, numpy, markdown, wheel, werkzeug, tensorboard, absl-py, gast, termcolor, keras-preprocessing, astor, h5py, keras-applications, tensorflow\nSuccessfully installed absl-py-0.7.0 astor-0.7.1 gast-0.2.2 grpcio-1.18.0 h5py-2.9.0 keras-applications-1.0.7 keras-preprocessing-1.0.9 markdown-3.0.1 numpy-1.16.1 protobuf-3.6.1 setuptools-40.8.0 six-1.12.0 tensorboard-1.12.2 tensorflow-1.12.0 termcolor-1.1.0 werkzeug-0.14.1 wheel-0.32.3\n"
                }
            ], 
            "source": "!pip install tensorflow"
        }, 
        {
            "execution_count": 13, 
            "cell_type": "code", 
            "metadata": {}, 
            "outputs": [
                {
                    "output_type": "stream", 
                    "name": "stdout", 
                    "text": "Collecting py4j==0.10.6\n\u001b[?25l  Downloading https://files.pythonhosted.org/packages/4a/08/162710786239aa72bd72bb46c64f2b02f54250412ba928cb373b30699139/py4j-0.10.6-py2.py3-none-any.whl (189kB)\n\u001b[K    100% |################################| 194kB 3.9MB/s eta 0:00:01\n\u001b[?25hInstalling collected packages: py4j\nSuccessfully installed py4j-0.10.6\n"
                }
            ], 
            "source": "!pip install py4j==0.10.6"
        }, 
        {
            "execution_count": 14, 
            "cell_type": "code", 
            "metadata": {}, 
            "outputs": [
                {
                    "output_type": "stream", 
                    "name": "stdout", 
                    "text": "Collecting pyspark\n\u001b[?25l  Downloading https://files.pythonhosted.org/packages/88/01/a37e827c2d80c6a754e40e99b9826d978b55254cc6c6672b5b08f2e18a7f/pyspark-2.4.0.tar.gz (213.4MB)\n\u001b[K    100% |################################| 213.4MB 107kB/s eta 0:00:01 0% |                                | 1.4MB 59.5MB/s eta 0:00:04\n\u001b[?25hCollecting py4j==0.10.7 (from pyspark)\n\u001b[?25l  Downloading https://files.pythonhosted.org/packages/e3/53/c737818eb9a7dc32a7cd4f1396e787bd94200c3997c72c1dbe028587bd76/py4j-0.10.7-py2.py3-none-any.whl (197kB)\n\u001b[K    100% |################################| 204kB 4.8MB/s eta 0:00:01\n\u001b[?25hBuilding wheels for collected packages: pyspark\n  Running setup.py bdist_wheel for pyspark ... \u001b[?25ldone\n\u001b[?25h  Stored in directory: /home/spark/shared/.cache/pip/wheels/cd/54/c2/abfcc942eddeaa7101228ebd6127a30dbdf903c72db4235b23\nSuccessfully built pyspark\nInstalling collected packages: py4j, pyspark\n\u001b[31mException:\nTraceback (most recent call last):\n  File \"/opt/ibm/conda/miniconda3/lib/python3.5/site-packages/pip/_internal/basecommand.py\", line 228, in main\n    status = self.run(options, args)\n  File \"/opt/ibm/conda/miniconda3/lib/python3.5/site-packages/pip/_internal/commands/install.py\", line 335, in run\n    use_user_site=options.use_user_site,\n  File \"/opt/ibm/conda/miniconda3/lib/python3.5/site-packages/pip/_internal/req/__init__.py\", line 49, in install_given_reqs\n    **kwargs\n  File \"/opt/ibm/conda/miniconda3/lib/python3.5/site-packages/pip/_internal/req/req_install.py\", line 748, in install\n    use_user_site=use_user_site, pycompile=pycompile,\n  File \"/opt/ibm/conda/miniconda3/lib/python3.5/site-packages/pip/_internal/req/req_install.py\", line 961, in move_wheel_files\n    warn_script_location=warn_script_location,\n  File \"/opt/ibm/conda/miniconda3/lib/python3.5/site-packages/pip/_internal/wheel.py\", line 216, in move_wheel_files\n    prefix=prefix,\n  File \"/opt/ibm/conda/miniconda3/lib/python3.5/site-packages/pip/_internal/locations.py\", line 165, in distutils_scheme\n    i.finalize_options()\n  File \"/opt/ibm/conda/miniconda3/lib/python3.5/distutils/command/install.py\", line 251, in finalize_options\n    raise DistutilsOptionError(\"can't combine user with prefix, \"\ndistutils.errors.DistutilsOptionError: can't combine user with prefix, exec_prefix/home, or install_(plat)base\u001b[0m\n"
                }
            ], 
            "source": "!pip install --user pyspark"
        }, 
        {
            "execution_count": 15, 
            "cell_type": "code", 
            "metadata": {}, 
            "outputs": [
                {
                    "output_type": "stream", 
                    "name": "stdout", 
                    "text": "Collecting wget\nInstalling collected packages: wget\nSuccessfully installed wget-3.2\n"
                }
            ], 
            "source": "!pip install --upgrade wget"
        }, 
        {
            "execution_count": 16, 
            "cell_type": "code", 
            "metadata": {}, 
            "outputs": [
                {
                    "output_type": "stream", 
                    "name": "stdout", 
                    "text": "GoSales_Tx_NaiveBayes.csv\n"
                }
            ], 
            "source": "import wget\n\nlink_to_data = 'https://apsportal.ibm.com/exchange-api/v1/entries/8044492073eb964f46597b4be06ff5ea/data?accessKey=9561295fa407698694b1e254d0099600'\nfilename = wget.download(link_to_data)\n\nprint(filename)"
        }, 
        {
            "execution_count": 17, 
            "cell_type": "code", 
            "metadata": {}, 
            "outputs": [
                {
                    "execution_count": 17, 
                    "metadata": {}, 
                    "data": {
                        "text/plain": "[Row(PRODUCT_LINE='Personal Accessories', GENDER='M', AGE=27, MARITAL_STATUS='Single', PROFESSION='Professional'),\n Row(PRODUCT_LINE='Personal Accessories', GENDER='F', AGE=39, MARITAL_STATUS='Married', PROFESSION='Other'),\n Row(PRODUCT_LINE='Mountaineering Equipment', GENDER='F', AGE=39, MARITAL_STATUS='Married', PROFESSION='Other')]"
                    }, 
                    "output_type": "execute_result"
                }
            ], 
            "source": "spark = SparkSession.builder.getOrCreate()\n\ndf_data = spark.read\\\n  .format('org.apache.spark.sql.execution.datasources.csv.CSVFileFormat')\\\n  .option('header', 'true')\\\n  .option('inferSchema', 'true')\\\n  .load(filename)\ndf_data.take(3)"
        }, 
        {
            "execution_count": 18, 
            "cell_type": "code", 
            "metadata": {}, 
            "outputs": [
                {
                    "output_type": "stream", 
                    "name": "stdout", 
                    "text": "root\n |-- PRODUCT_LINE: string (nullable = true)\n |-- GENDER: string (nullable = true)\n |-- AGE: integer (nullable = true)\n |-- MARITAL_STATUS: string (nullable = true)\n |-- PROFESSION: string (nullable = true)\n\n"
                }
            ], 
            "source": "df_data.printSchema()"
        }, 
        {
            "execution_count": 19, 
            "cell_type": "code", 
            "metadata": {}, 
            "outputs": [
                {
                    "output_type": "stream", 
                    "name": "stdout", 
                    "text": "+--------------------+------+---+--------------+------------+\n|        PRODUCT_LINE|GENDER|AGE|MARITAL_STATUS|  PROFESSION|\n+--------------------+------+---+--------------+------------+\n|Personal Accessories|     M| 27|        Single|Professional|\n|Personal Accessories|     F| 39|       Married|       Other|\n|Mountaineering Eq...|     F| 39|       Married|       Other|\n|Personal Accessories|     F| 56|   Unspecified| Hospitality|\n|      Golf Equipment|     M| 45|       Married|     Retired|\n|      Golf Equipment|     M| 45|       Married|     Retired|\n|   Camping Equipment|     F| 39|       Married|       Other|\n|   Camping Equipment|     F| 49|       Married|       Other|\n|  Outdoor Protection|     F| 49|       Married|       Other|\n|      Golf Equipment|     M| 47|       Married|     Retired|\n|      Golf Equipment|     M| 47|       Married|     Retired|\n|Mountaineering Eq...|     M| 21|        Single|      Retail|\n|Personal Accessories|     F| 66|       Married|       Other|\n|   Camping Equipment|     F| 35|       Married|Professional|\n|Mountaineering Eq...|     M| 20|        Single|       Sales|\n|Mountaineering Eq...|     M| 20|        Single|       Sales|\n|Mountaineering Eq...|     M| 20|        Single|       Sales|\n|Personal Accessories|     F| 37|        Single|       Other|\n|   Camping Equipment|     M| 42|       Married|       Other|\n|   Camping Equipment|     F| 24|       Married|      Retail|\n+--------------------+------+---+--------------+------------+\nonly showing top 20 rows\n\n"
                }
            ], 
            "source": "df_data.show()"
        }, 
        {
            "execution_count": 20, 
            "cell_type": "code", 
            "metadata": {}, 
            "outputs": [
                {
                    "execution_count": 20, 
                    "metadata": {}, 
                    "data": {
                        "text/plain": "60252"
                    }, 
                    "output_type": "execute_result"
                }
            ], 
            "source": "df_data.count()"
        }, 
        {
            "execution_count": 21, 
            "cell_type": "code", 
            "metadata": {}, 
            "outputs": [
                {
                    "output_type": "stream", 
                    "name": "stdout", 
                    "text": "Number of training records: 48176\nNumber of testing records : 10860\nNumber of prediction records : 1216\n"
                }
            ], 
            "source": "splitted_data = df_data.randomSplit([0.8, 0.18, 0.02], 24)\ntrain_data = splitted_data[0]\ntest_data = splitted_data[1]\npredict_data = splitted_data[2]\n\nprint(\"Number of training records: \" + str(train_data.count()))\nprint(\"Number of testing records : \" + str(test_data.count()))\nprint(\"Number of prediction records : \" + str(predict_data.count()))"
        }, 
        {
            "execution_count": 22, 
            "cell_type": "code", 
            "metadata": {}, 
            "outputs": [], 
            "source": "from pyspark.ml.feature import OneHotEncoder, StringIndexer, IndexToString, VectorAssembler\nfrom pyspark.ml.classification import RandomForestClassifier\nfrom pyspark.ml.evaluation import MulticlassClassificationEvaluator\nfrom pyspark.ml import Pipeline, Model"
        }, 
        {
            "execution_count": 23, 
            "cell_type": "code", 
            "metadata": {}, 
            "outputs": [], 
            "source": "stringIndexer_label = StringIndexer(inputCol=\"PRODUCT_LINE\", outputCol=\"label\").fit(df_data)\nstringIndexer_prof = StringIndexer(inputCol=\"PROFESSION\", outputCol=\"PROFESSION_IX\")\nstringIndexer_gend = StringIndexer(inputCol=\"GENDER\", outputCol=\"GENDER_IX\")\nstringIndexer_mar = StringIndexer(inputCol=\"MARITAL_STATUS\", outputCol=\"MARITAL_STATUS_IX\")"
        }, 
        {
            "execution_count": 24, 
            "cell_type": "code", 
            "metadata": {}, 
            "outputs": [], 
            "source": "vectorAssembler_features = VectorAssembler(inputCols=[\"GENDER_IX\", \"AGE\", \"MARITAL_STATUS_IX\", \"PROFESSION_IX\"], outputCol=\"features\")"
        }, 
        {
            "execution_count": 25, 
            "cell_type": "code", 
            "metadata": {}, 
            "outputs": [], 
            "source": "rf = RandomForestClassifier(labelCol=\"label\", featuresCol=\"features\")"
        }, 
        {
            "execution_count": 26, 
            "cell_type": "code", 
            "metadata": {}, 
            "outputs": [], 
            "source": "labelConverter = IndexToString(inputCol=\"prediction\", outputCol=\"predictedLabel\", labels=stringIndexer_label.labels)"
        }, 
        {
            "execution_count": 27, 
            "cell_type": "code", 
            "metadata": {}, 
            "outputs": [], 
            "source": "pipeline_rf = Pipeline(stages=[stringIndexer_label, stringIndexer_prof, stringIndexer_gend, stringIndexer_mar, vectorAssembler_features, rf, labelConverter])"
        }, 
        {
            "execution_count": 28, 
            "cell_type": "code", 
            "metadata": {}, 
            "outputs": [
                {
                    "output_type": "stream", 
                    "name": "stdout", 
                    "text": "root\n |-- PRODUCT_LINE: string (nullable = true)\n |-- GENDER: string (nullable = true)\n |-- AGE: integer (nullable = true)\n |-- MARITAL_STATUS: string (nullable = true)\n |-- PROFESSION: string (nullable = true)\n\n"
                }
            ], 
            "source": "train_data.printSchema()"
        }, 
        {
            "execution_count": 29, 
            "cell_type": "code", 
            "metadata": {}, 
            "outputs": [], 
            "source": "model_rf = pipeline_rf.fit(train_data)"
        }, 
        {
            "execution_count": 30, 
            "cell_type": "code", 
            "metadata": {}, 
            "outputs": [
                {
                    "output_type": "stream", 
                    "name": "stdout", 
                    "text": "Accuracy = 0.577164\nTest Error = 0.422836\n"
                }
            ], 
            "source": "predictions = model_rf.transform(test_data)\nevaluatorRF = MulticlassClassificationEvaluator(labelCol=\"label\", predictionCol=\"prediction\", metricName=\"accuracy\")\naccuracy = evaluatorRF.evaluate(predictions)\n\nprint(\"Accuracy = %g\" % accuracy)\nprint(\"Test Error = %g\" % (1.0 - accuracy))"
        }, 
        {
            "execution_count": 31, 
            "cell_type": "code", 
            "metadata": {}, 
            "outputs": [], 
            "source": "from repository.mlrepositoryclient import MLRepositoryClient\nfrom repository.mlrepositoryartifact import MLRepositoryArtifact"
        }, 
        {
            "execution_count": 32, 
            "cell_type": "code", 
            "metadata": {}, 
            "outputs": [], 
            "source": "service_path = 'https://us-south.ml.cloud.ibm.com'\ninstance_id = 'd61cc0d7-b448-4a3f-965b-7dbfc7a2f931'\nusername = '50a716d0-03b3-4bf6-8f2a-c00bafc9ff4a'\npassword = '182ef217-c4d8-4438-a005-450e119d3794'"
        }, 
        {
            "execution_count": 33, 
            "cell_type": "code", 
            "metadata": {}, 
            "outputs": [], 
            "source": "ml_repository_client = MLRepositoryClient(service_path)\nml_repository_client.authorize(username, password)"
        }, 
        {
            "execution_count": 34, 
            "cell_type": "code", 
            "metadata": {}, 
            "outputs": [], 
            "source": "model_artifact = MLRepositoryArtifact(model_rf, training_data = train_data, name=\"Product Line prediction\")"
        }, 
        {
            "execution_count": 36, 
            "cell_type": "code", 
            "metadata": {}, 
            "outputs": [], 
            "source": "saved_model = ml_repository_client.models.save(model_artifact)"
        }, 
        {
            "execution_count": 37, 
            "cell_type": "code", 
            "metadata": {}, 
            "outputs": [
                {
                    "execution_count": 37, 
                    "metadata": {}, 
                    "data": {
                        "text/plain": "dict_keys(['modelType', 'label', 'trainingDataSchema', 'authorName', 'pipelineVersionHref', 'evaluationMethod', 'authorEmail', 'modelVersionHref', 'inputDataSchema', 'creationTime', 'version', 'lastUpdated', 'runtime', 'trainingDataRef', 'evaluationMetrics'])"
                    }, 
                    "output_type": "execute_result"
                }
            ], 
            "source": "saved_model.meta.available_props()"
        }, 
        {
            "execution_count": 46, 
            "cell_type": "code", 
            "metadata": {}, 
            "outputs": [
                {
                    "output_type": "stream", 
                    "name": "stdout", 
                    "text": "modelType: sparkml-model-2.3\ntrainingDataSchema: {'type': 'struct', 'fields': [{'type': 'string', 'name': 'PRODUCT_LINE', 'metadata': {}, 'nullable': True}, {'type': 'string', 'name': 'GENDER', 'metadata': {}, 'nullable': True}, {'type': 'integer', 'name': 'AGE', 'metadata': {}, 'nullable': True}, {'type': 'string', 'name': 'MARITAL_STATUS', 'metadata': {}, 'nullable': True}, {'type': 'string', 'name': 'PROFESSION', 'metadata': {}, 'nullable': True}]}\ncreationTime: 2019-02-07 02:39:54.239000+00:00\nmodelVersionHref: https://us-south.ml.cloud.ibm.com/v2/artifacts/models/0e5b0cf6-3e1b-4212-853e-ef5eb9be2e8c/versions/93fcb833-56aa-45ee-8b7b-083b8a53df9f\nlabel: PRODUCT_LINE\n"
                }
            ], 
            "source": "print (\"modelType: \" + saved_model.meta.prop(\"modelType\"))\nprint (\"trainingDataSchema: \" + str(saved_model.meta.prop(\"trainingDataSchema\")))\nprint (\"creationTime: \" + str(saved_model.meta.prop(\"creationTime\")))\nprint (\"modelVersionHref: \" + saved_model.meta.prop(\"modelVersionHref\"))\nprint (\"label: \" + saved_model.meta.prop(\"label\"))"
        }, 
        {
            "execution_count": 42, 
            "cell_type": "code", 
            "metadata": {}, 
            "outputs": [], 
            "source": "loadedModelArtifact = ml_repository_client.models.get(saved_model.uid)"
        }, 
        {
            "execution_count": 44, 
            "cell_type": "code", 
            "metadata": {}, 
            "outputs": [
                {
                    "output_type": "stream", 
                    "name": "stdout", 
                    "text": "Product Line prediction\n"
                }
            ], 
            "source": "print (loadedModelArtifact.name)"
        }, 
        {
            "execution_count": 47, 
            "cell_type": "code", 
            "metadata": {}, 
            "outputs": [], 
            "source": "predictions = loadedModelArtifact.model_instance().transform(predict_data)"
        }, 
        {
            "execution_count": 48, 
            "cell_type": "code", 
            "metadata": {}, 
            "outputs": [
                {
                    "output_type": "stream", 
                    "name": "stdout", 
                    "text": "+-----------------+------+---+--------------+----------+-----+-------------+---------+-----------------+------------------+--------------------+--------------------+----------+--------------------+\n|     PRODUCT_LINE|GENDER|AGE|MARITAL_STATUS|PROFESSION|label|PROFESSION_IX|GENDER_IX|MARITAL_STATUS_IX|          features|       rawPrediction|         probability|prediction|      predictedLabel|\n+-----------------+------+---+--------------+----------+-----+-------------+---------+-----------------+------------------+--------------------+--------------------+----------+--------------------+\n|Camping Equipment|     F| 20|        Single|     Other|  0.0|          0.0|      1.0|              1.0|[1.0,20.0,1.0,0.0]|[5.40414904816074...|[0.27020745240803...|       1.0|Personal Accessories|\n|Camping Equipment|     F| 20|        Single|     Other|  0.0|          0.0|      1.0|              1.0|[1.0,20.0,1.0,0.0]|[5.40414904816074...|[0.27020745240803...|       1.0|Personal Accessories|\n|Camping Equipment|     F| 20|        Single|     Other|  0.0|          0.0|      1.0|              1.0|[1.0,20.0,1.0,0.0]|[5.40414904816074...|[0.27020745240803...|       1.0|Personal Accessories|\n|Camping Equipment|     F| 20|        Single|     Other|  0.0|          0.0|      1.0|              1.0|[1.0,20.0,1.0,0.0]|[5.40414904816074...|[0.27020745240803...|       1.0|Personal Accessories|\n|Camping Equipment|     F| 21|       Married|     Other|  0.0|          0.0|      1.0|              0.0|[1.0,21.0,0.0,0.0]|[6.92549979394604...|[0.34627498969730...|       0.0|   Camping Equipment|\n+-----------------+------+---+--------------+----------+-----+-------------+---------+-----------------+------------------+--------------------+--------------------+----------+--------------------+\nonly showing top 5 rows\n\n"
                }
            ], 
            "source": "predictions.show(5)"
        }, 
        {
            "execution_count": 49, 
            "cell_type": "code", 
            "metadata": {}, 
            "outputs": [
                {
                    "output_type": "stream", 
                    "name": "stdout", 
                    "text": "+--------------------+-----+\n|      predictedLabel|count|\n+--------------------+-----+\n|   Camping Equipment|  731|\n|      Golf Equipment|   57|\n|Mountaineering Eq...|   71|\n|Personal Accessories|  357|\n+--------------------+-----+\n\n"
                }
            ], 
            "source": "predictions.select(\"predictedLabel\").groupBy(\"predictedLabel\").count().show()"
        }, 
        {
            "execution_count": 57, 
            "cell_type": "code", 
            "metadata": {}, 
            "outputs": [
                {
                    "output_type": "stream", 
                    "name": "stdout", 
                    "text": "Collecting plotly\nCollecting decorator>=4.0.6 (from plotly)\n  Using cached https://files.pythonhosted.org/packages/f1/cd/7c8240007e9716b14679bc217a1baefa4432aa30394f7e2ec40a52b1a708/decorator-4.3.2-py2.py3-none-any.whl\nCollecting retrying>=1.3.3 (from plotly)\nCollecting nbformat>=4.2 (from plotly)\n  Using cached https://files.pythonhosted.org/packages/da/27/9a654d2b6cc1eaa517d1c5a4405166c7f6d72f04f6e7eea41855fe808a46/nbformat-4.4.0-py2.py3-none-any.whl\nCollecting six (from plotly)\n  Using cached https://files.pythonhosted.org/packages/73/fb/00a976f728d0d1fecfe898238ce23f502a721c0ac0ecfedb80e0d88c64e9/six-1.12.0-py2.py3-none-any.whl\nCollecting requests (from plotly)\n  Using cached https://files.pythonhosted.org/packages/7d/e3/20f3d364d6c8e5d2353c72a67778eb189176f08e873c9900e10c0287b84b/requests-2.21.0-py2.py3-none-any.whl\nCollecting pytz (from plotly)\n  Using cached https://files.pythonhosted.org/packages/61/28/1d3920e4d1d50b19bc5d24398a7cd85cc7b9a75a490570d5a30c57622d34/pytz-2018.9-py2.py3-none-any.whl\nCollecting jupyter-core (from nbformat>=4.2->plotly)\n  Using cached https://files.pythonhosted.org/packages/1d/44/065d2d7bae7bebc06f1dd70d23c36da8c50c0f08b4236716743d706762a8/jupyter_core-4.4.0-py2.py3-none-any.whl\nCollecting ipython-genutils (from nbformat>=4.2->plotly)\n  Using cached https://files.pythonhosted.org/packages/fa/bc/9bd3b5c2b4774d5f33b2d544f1460be9df7df2fe42f352135381c347c69a/ipython_genutils-0.2.0-py2.py3-none-any.whl\nCollecting jsonschema!=2.5.0,>=2.4 (from nbformat>=4.2->plotly)\n  Using cached https://files.pythonhosted.org/packages/77/de/47e35a97b2b05c2fadbec67d44cfcdcd09b8086951b331d82de90d2912da/jsonschema-2.6.0-py2.py3-none-any.whl\nCollecting traitlets>=4.1 (from nbformat>=4.2->plotly)\n  Using cached https://files.pythonhosted.org/packages/93/d6/abcb22de61d78e2fc3959c964628a5771e47e7cc60d53e9342e21ed6cc9a/traitlets-4.3.2-py2.py3-none-any.whl\nCollecting chardet<3.1.0,>=3.0.2 (from requests->plotly)\n  Using cached https://files.pythonhosted.org/packages/bc/a9/01ffebfb562e4274b6487b4bb1ddec7ca55ec7510b22e4c51f14098443b8/chardet-3.0.4-py2.py3-none-any.whl\nCollecting idna<2.9,>=2.5 (from requests->plotly)\n  Using cached https://files.pythonhosted.org/packages/14/2c/cd551d81dbe15200be1cf41cd03869a46fe7226e7450af7a6545bfc474c9/idna-2.8-py2.py3-none-any.whl\nCollecting urllib3<1.25,>=1.21.1 (from requests->plotly)\n  Using cached https://files.pythonhosted.org/packages/62/00/ee1d7de624db8ba7090d1226aebefab96a2c71cd5cfa7629d6ad3f61b79e/urllib3-1.24.1-py2.py3-none-any.whl\nCollecting certifi>=2017.4.17 (from requests->plotly)\n  Using cached https://files.pythonhosted.org/packages/9f/e0/accfc1b56b57e9750eba272e24c4dddeac86852c2bebd1236674d7887e8a/certifi-2018.11.29-py2.py3-none-any.whl\nInstalling collected packages: decorator, six, retrying, ipython-genutils, traitlets, jupyter-core, jsonschema, nbformat, chardet, idna, urllib3, certifi, requests, pytz, plotly\n\u001b[31mException:\nTraceback (most recent call last):\n  File \"/opt/ibm/conda/miniconda3/lib/python3.5/site-packages/pip/_internal/basecommand.py\", line 228, in main\n    status = self.run(options, args)\n  File \"/opt/ibm/conda/miniconda3/lib/python3.5/site-packages/pip/_internal/commands/install.py\", line 335, in run\n    use_user_site=options.use_user_site,\n  File \"/opt/ibm/conda/miniconda3/lib/python3.5/site-packages/pip/_internal/req/__init__.py\", line 49, in install_given_reqs\n    **kwargs\n  File \"/opt/ibm/conda/miniconda3/lib/python3.5/site-packages/pip/_internal/req/req_install.py\", line 748, in install\n    use_user_site=use_user_site, pycompile=pycompile,\n  File \"/opt/ibm/conda/miniconda3/lib/python3.5/site-packages/pip/_internal/req/req_install.py\", line 961, in move_wheel_files\n    warn_script_location=warn_script_location,\n  File \"/opt/ibm/conda/miniconda3/lib/python3.5/site-packages/pip/_internal/wheel.py\", line 216, in move_wheel_files\n    prefix=prefix,\n  File \"/opt/ibm/conda/miniconda3/lib/python3.5/site-packages/pip/_internal/locations.py\", line 165, in distutils_scheme\n    i.finalize_options()\n  File \"/opt/ibm/conda/miniconda3/lib/python3.5/distutils/command/install.py\", line 251, in finalize_options\n    raise DistutilsOptionError(\"can't combine user with prefix, \"\ndistutils.errors.DistutilsOptionError: can't combine user with prefix, exec_prefix/home, or install_(plat)base\u001b[0m\n"
                }
            ], 
            "source": "!pip install plotly --user"
        }, 
        {
            "execution_count": 58, 
            "cell_type": "code", 
            "metadata": {}, 
            "outputs": [
                {
                    "output_type": "stream", 
                    "name": "stdout", 
                    "text": "Collecting cufflinks==0.8.2\nCollecting pandas (from cufflinks==0.8.2)\n  Using cached https://files.pythonhosted.org/packages/e2/a3/c42cd52e40527ba35aed53a988c485ffeddbae0722b8b756da82464baa73/pandas-0.24.1-cp35-cp35m-manylinux1_x86_64.whl\nCollecting colorlover>=0.2 (from cufflinks==0.8.2)\n  Using cached https://files.pythonhosted.org/packages/9a/53/f696e4480b1d1de3b1523991dea71cf417c8b19fe70c704da164f3f90972/colorlover-0.3.0-py3-none-any.whl\nCollecting plotly>=1.7.6 (from cufflinks==0.8.2)\nCollecting python-dateutil>=2.5.0 (from pandas->cufflinks==0.8.2)\n  Using cached https://files.pythonhosted.org/packages/41/17/c62faccbfbd163c7f57f3844689e3a78bae1f403648a6afb1d0866d87fbb/python_dateutil-2.8.0-py2.py3-none-any.whl\nCollecting numpy>=1.12.0 (from pandas->cufflinks==0.8.2)\n  Using cached https://files.pythonhosted.org/packages/ad/15/690c13ae714e156491392cdbdbf41b485d23c285aa698239a67f7cfc9e0a/numpy-1.16.1-cp35-cp35m-manylinux1_x86_64.whl\nCollecting pytz>=2011k (from pandas->cufflinks==0.8.2)\n  Using cached https://files.pythonhosted.org/packages/61/28/1d3920e4d1d50b19bc5d24398a7cd85cc7b9a75a490570d5a30c57622d34/pytz-2018.9-py2.py3-none-any.whl\nCollecting decorator>=4.0.6 (from plotly>=1.7.6->cufflinks==0.8.2)\n  Using cached https://files.pythonhosted.org/packages/f1/cd/7c8240007e9716b14679bc217a1baefa4432aa30394f7e2ec40a52b1a708/decorator-4.3.2-py2.py3-none-any.whl\nCollecting six (from plotly>=1.7.6->cufflinks==0.8.2)\n  Using cached https://files.pythonhosted.org/packages/73/fb/00a976f728d0d1fecfe898238ce23f502a721c0ac0ecfedb80e0d88c64e9/six-1.12.0-py2.py3-none-any.whl\nCollecting retrying>=1.3.3 (from plotly>=1.7.6->cufflinks==0.8.2)\nCollecting nbformat>=4.2 (from plotly>=1.7.6->cufflinks==0.8.2)\n  Using cached https://files.pythonhosted.org/packages/da/27/9a654d2b6cc1eaa517d1c5a4405166c7f6d72f04f6e7eea41855fe808a46/nbformat-4.4.0-py2.py3-none-any.whl\nCollecting requests (from plotly>=1.7.6->cufflinks==0.8.2)\n  Using cached https://files.pythonhosted.org/packages/7d/e3/20f3d364d6c8e5d2353c72a67778eb189176f08e873c9900e10c0287b84b/requests-2.21.0-py2.py3-none-any.whl\nCollecting ipython-genutils (from nbformat>=4.2->plotly>=1.7.6->cufflinks==0.8.2)\n  Using cached https://files.pythonhosted.org/packages/fa/bc/9bd3b5c2b4774d5f33b2d544f1460be9df7df2fe42f352135381c347c69a/ipython_genutils-0.2.0-py2.py3-none-any.whl\nCollecting traitlets>=4.1 (from nbformat>=4.2->plotly>=1.7.6->cufflinks==0.8.2)\n  Using cached https://files.pythonhosted.org/packages/93/d6/abcb22de61d78e2fc3959c964628a5771e47e7cc60d53e9342e21ed6cc9a/traitlets-4.3.2-py2.py3-none-any.whl\nCollecting jsonschema!=2.5.0,>=2.4 (from nbformat>=4.2->plotly>=1.7.6->cufflinks==0.8.2)\n  Using cached https://files.pythonhosted.org/packages/77/de/47e35a97b2b05c2fadbec67d44cfcdcd09b8086951b331d82de90d2912da/jsonschema-2.6.0-py2.py3-none-any.whl\nCollecting jupyter-core (from nbformat>=4.2->plotly>=1.7.6->cufflinks==0.8.2)\n  Using cached https://files.pythonhosted.org/packages/1d/44/065d2d7bae7bebc06f1dd70d23c36da8c50c0f08b4236716743d706762a8/jupyter_core-4.4.0-py2.py3-none-any.whl\nCollecting certifi>=2017.4.17 (from requests->plotly>=1.7.6->cufflinks==0.8.2)\n  Using cached https://files.pythonhosted.org/packages/9f/e0/accfc1b56b57e9750eba272e24c4dddeac86852c2bebd1236674d7887e8a/certifi-2018.11.29-py2.py3-none-any.whl\nCollecting urllib3<1.25,>=1.21.1 (from requests->plotly>=1.7.6->cufflinks==0.8.2)\n  Using cached https://files.pythonhosted.org/packages/62/00/ee1d7de624db8ba7090d1226aebefab96a2c71cd5cfa7629d6ad3f61b79e/urllib3-1.24.1-py2.py3-none-any.whl\nCollecting chardet<3.1.0,>=3.0.2 (from requests->plotly>=1.7.6->cufflinks==0.8.2)\n  Using cached https://files.pythonhosted.org/packages/bc/a9/01ffebfb562e4274b6487b4bb1ddec7ca55ec7510b22e4c51f14098443b8/chardet-3.0.4-py2.py3-none-any.whl\nCollecting idna<2.9,>=2.5 (from requests->plotly>=1.7.6->cufflinks==0.8.2)\n  Using cached https://files.pythonhosted.org/packages/14/2c/cd551d81dbe15200be1cf41cd03869a46fe7226e7450af7a6545bfc474c9/idna-2.8-py2.py3-none-any.whl\nInstalling collected packages: six, python-dateutil, numpy, pytz, pandas, colorlover, decorator, retrying, ipython-genutils, traitlets, jsonschema, jupyter-core, nbformat, certifi, urllib3, chardet, idna, requests, plotly, cufflinks\nSuccessfully installed certifi-2018.11.29 chardet-3.0.4 colorlover-0.3.0 cufflinks-0.8.2 decorator-4.3.2 idna-2.8 ipython-genutils-0.2.0 jsonschema-2.6.0 jupyter-core-4.4.0 nbformat-4.4.0 numpy-1.16.1 pandas-0.24.1 plotly-3.6.0 python-dateutil-2.8.0 pytz-2018.9 requests-2.21.0 retrying-1.3.3 six-1.12.0 traitlets-4.3.2 urllib3-1.24.1\n\u001b[33mTarget directory /home/spark/shared/user-libs/python3/numpy already exists. Specify --upgrade to force replacement.\u001b[0m\n\u001b[33mTarget directory /home/spark/shared/user-libs/python3/six-1.12.0.dist-info already exists. Specify --upgrade to force replacement.\u001b[0m\n\u001b[33mTarget directory /home/spark/shared/user-libs/python3/six.py already exists. Specify --upgrade to force replacement.\u001b[0m\n\u001b[33mTarget directory /home/spark/shared/user-libs/python3/__pycache__ already exists. Specify --upgrade to force replacement.\u001b[0m\n\u001b[33mTarget directory /home/spark/shared/user-libs/python3/numpy-1.16.1.dist-info already exists. Specify --upgrade to force replacement.\u001b[0m\n\u001b[33mTarget directory /home/spark/shared/user-libs/python3/bin already exists. Specify --upgrade to force replacement.\u001b[0m\n\u001b[33mTarget directory /home/spark/shared/user-libs/python3/share already exists. Specify --upgrade to force replacement.\u001b[0m\n"
                }
            ], 
            "source": "!pip install cufflinks==0.8.2"
        }, 
        {
            "execution_count": 59, 
            "cell_type": "code", 
            "metadata": {
                "scrolled": true
            }, 
            "outputs": [
                {
                    "output_type": "display_data", 
                    "data": {
                        "text/html": "<script>requirejs.config({paths: { 'plotly': ['https://cdn.plot.ly/plotly-latest.min']},});if(!window.Plotly) {{require(['plotly'],function(plotly) {window.Plotly=plotly;});}}</script>", 
                        "text/vnd.plotly.v1+html": "<script>requirejs.config({paths: { 'plotly': ['https://cdn.plot.ly/plotly-latest.min']},});if(!window.Plotly) {{require(['plotly'],function(plotly) {window.Plotly=plotly;});}}</script>"
                    }, 
                    "metadata": {}
                }
            ], 
            "source": "import sys\nimport pandas\nimport plotly.plotly as py\nfrom plotly.offline import download_plotlyjs, init_notebook_mode, plot, iplot\nimport cufflinks as cf\nimport plotly.graph_objs as go\ninit_notebook_mode(connected=True)\nsys.path.append(\"\".join([os.environ[\"HOME\"]])) "
        }, 
        {
            "execution_count": 55, 
            "cell_type": "code", 
            "metadata": {}, 
            "outputs": [], 
            "source": "predictions_pdf = predictions.select(\"prediction\", \"predictedLabel\", \"GENDER\", \"AGE\", \"PROFESSION\", \"MARITAL_STATUS\").toPandas()"
        }, 
        {
            "execution_count": 60, 
            "cell_type": "code", 
            "metadata": {}, 
            "outputs": [
                {
                    "output_type": "display_data", 
                    "data": {
                        "text/html": "<div id=\"8f7aba05-8f31-40ec-bca1-6f7b480d0be9\" style=\"height: 525px; width: 100%;\" class=\"plotly-graph-div\"></div><script type=\"text/javascript\">require([\"plotly\"], function(Plotly) { window.PLOTLYENV=window.PLOTLYENV || {};window.PLOTLYENV.BASE_URL=\"https://plot.ly\";Plotly.newPlot(\"8f7aba05-8f31-40ec-bca1-6f7b480d0be9\", [{\"labels\": [\"Camping Equipment\", \"Golf Equipment\", \"Mountaineering Equipment\", \"Personal Accessories\"], \"values\": [731, 57, 71, 357], \"type\": \"pie\"}], {\"title\": \"Predicted product line client interest distribution\"}, {\"showLink\": true, \"linkText\": \"Export to plot.ly\"})});</script>", 
                        "text/vnd.plotly.v1+html": "<div id=\"8f7aba05-8f31-40ec-bca1-6f7b480d0be9\" style=\"height: 525px; width: 100%;\" class=\"plotly-graph-div\"></div><script type=\"text/javascript\">require([\"plotly\"], function(Plotly) { window.PLOTLYENV=window.PLOTLYENV || {};window.PLOTLYENV.BASE_URL=\"https://plot.ly\";Plotly.newPlot(\"8f7aba05-8f31-40ec-bca1-6f7b480d0be9\", [{\"labels\": [\"Camping Equipment\", \"Golf Equipment\", \"Mountaineering Equipment\", \"Personal Accessories\"], \"values\": [731, 57, 71, 357], \"type\": \"pie\"}], {\"title\": \"Predicted product line client interest distribution\"}, {\"showLink\": true, \"linkText\": \"Export to plot.ly\"})});</script>", 
                        "application/vnd.plotly.v1+json": {
                            "data": [
                                {
                                    "type": "pie", 
                                    "labels": [
                                        "Camping Equipment", 
                                        "Golf Equipment", 
                                        "Mountaineering Equipment", 
                                        "Personal Accessories"
                                    ], 
                                    "values": [
                                        731, 
                                        57, 
                                        71, 
                                        357
                                    ]
                                }
                            ], 
                            "layout": {
                                "title": "Predicted product line client interest distribution"
                            }
                        }
                    }, 
                    "metadata": {}
                }
            ], 
            "source": "cumulative_stats = predictions_pdf.groupby(['predictedLabel']).count()\nproduct_data = [go.Pie(labels=cumulative_stats.index, values=cumulative_stats['GENDER'])]\nproduct_layout = go.Layout(title='Predicted product line client interest distribution')\n\nfig = go.Figure(data=product_data, layout=product_layout)\niplot(fig)"
        }, 
        {
            "execution_count": 61, 
            "cell_type": "code", 
            "metadata": {}, 
            "outputs": [
                {
                    "output_type": "display_data", 
                    "data": {
                        "text/html": "<div id=\"2dfdd8af-6601-4017-9db5-0f079715f29a\" style=\"height: 525px; width: 100%;\" class=\"plotly-graph-div\"></div><script type=\"text/javascript\">require([\"plotly\"], function(Plotly) { window.PLOTLYENV=window.PLOTLYENV || {};window.PLOTLYENV.BASE_URL=\"https://plot.ly\";Plotly.newPlot(\"2dfdd8af-6601-4017-9db5-0f079715f29a\", [{\"type\": \"bar\", \"x\": [\"Camping Equipment\", \"Golf Equipment\", \"Mountaineering Equipment\", \"Personal Accessories\"], \"y\": [33.52393980848153, 50.526315789473685, 36.521126760563384, 31.633053221288517]}], {\"yaxis\": {\"title\": \"Mean AGE\"}, \"xaxis\": {\"title\": \"Product Line\", \"showline\": false}, \"title\": \"Mean AGE per predicted product line\"}, {\"showLink\": true, \"linkText\": \"Export to plot.ly\"})});</script>", 
                        "text/vnd.plotly.v1+html": "<div id=\"2dfdd8af-6601-4017-9db5-0f079715f29a\" style=\"height: 525px; width: 100%;\" class=\"plotly-graph-div\"></div><script type=\"text/javascript\">require([\"plotly\"], function(Plotly) { window.PLOTLYENV=window.PLOTLYENV || {};window.PLOTLYENV.BASE_URL=\"https://plot.ly\";Plotly.newPlot(\"2dfdd8af-6601-4017-9db5-0f079715f29a\", [{\"type\": \"bar\", \"x\": [\"Camping Equipment\", \"Golf Equipment\", \"Mountaineering Equipment\", \"Personal Accessories\"], \"y\": [33.52393980848153, 50.526315789473685, 36.521126760563384, 31.633053221288517]}], {\"yaxis\": {\"title\": \"Mean AGE\"}, \"xaxis\": {\"title\": \"Product Line\", \"showline\": false}, \"title\": \"Mean AGE per predicted product line\"}, {\"showLink\": true, \"linkText\": \"Export to plot.ly\"})});</script>", 
                        "application/vnd.plotly.v1+json": {
                            "data": [
                                {
                                    "y": [
                                        33.52393980848153, 
                                        50.526315789473685, 
                                        36.521126760563384, 
                                        31.633053221288517
                                    ], 
                                    "x": [
                                        "Camping Equipment", 
                                        "Golf Equipment", 
                                        "Mountaineering Equipment", 
                                        "Personal Accessories"
                                    ], 
                                    "type": "bar"
                                }
                            ], 
                            "layout": {
                                "title": "Mean AGE per predicted product line", 
                                "xaxis": {
                                    "showline": false, 
                                    "title": "Product Line"
                                }, 
                                "yaxis": {
                                    "title": "Mean AGE"
                                }
                            }
                        }
                    }, 
                    "metadata": {}
                }
            ], 
            "source": "age_data = [go.Bar(y=predictions_pdf.groupby(['predictedLabel']).mean()[\"AGE\"], x=cumulative_stats.index)]\n\nage_layout = go.Layout(\n    title='Mean AGE per predicted product line',\n    xaxis=dict(title = \"Product Line\", showline=False),\n    yaxis=dict(title = \"Mean AGE\"))\n\nfig = go.Figure(data=age_data, layout=age_layout)\niplot(fig)"
        }, 
        {
            "execution_count": 63, 
            "cell_type": "code", 
            "metadata": {}, 
            "outputs": [], 
            "source": "import urllib3, requests, json\nheaders = urllib3.util.make_headers(basic_auth='{}:{}'.format(username, password))\nurl = '{}/v3/identity/token'.format(service_path)\nresponse = requests.get(url, headers=headers)\nmltoken = json.loads(response.text).get('token')"
        }, 
        {
            "execution_count": 65, 
            "cell_type": "code", 
            "metadata": {}, 
            "outputs": [
                {
                    "output_type": "stream", 
                    "name": "stdout", 
                    "text": "<Response [200]>\n{\n  \"metadata\": {\n    \"guid\": \"d61cc0d7-b448-4a3f-965b-7dbfc7a2f931\",\n    \"url\": \"https://us-south.ml.cloud.ibm.com/v3/wml_instances/d61cc0d7-b448-4a3f-965b-7dbfc7a2f931\",\n    \"created_at\": \"2019-01-17T22:48:41.901Z\",\n    \"modified_at\": \"2019-01-17T22:48:41.901Z\"\n  },\n  \"entity\": {\n    \"source\": \"Bluemix\",\n    \"published_models\": {\n      \"url\": \"https://us-south.ml.cloud.ibm.com/v3/wml_instances/d61cc0d7-b448-4a3f-965b-7dbfc7a2f931/published_models\"\n    },\n    \"usage\": {\n      \"expiration_date\": \"2019-03-01T00:00:00.000Z\",\n      \"computation_time\": {\n        \"limit\": 180000,\n        \"current\": 0\n      },\n      \"gpu_count_k80\": {\n        \"limit\": 8,\n        \"current\": 0\n      },\n      \"model_count\": {\n        \"limit\": 200,\n        \"current\": 1\n      },\n      \"gpu_count_p100\": {\n        \"limit\": 0,\n        \"current\": 0\n      },\n      \"prediction_count\": {\n        \"limit\": 5000,\n        \"current\": 0\n      },\n      \"capacity_units\": {\n        \"limit\": 180000000,\n        \"current\": 0\n      },\n      \"deployment_count\": {\n        \"limit\": 5,\n        \"current\": 0\n      },\n      \"gpu_count_v100\": {\n        \"limit\": 0,\n        \"current\": 0\n      }\n    },\n    \"tags\": null,\n    \"plan_id\": \"3f6acf43-ede8-413a-ac69-f8af3bb0cbfe\",\n    \"status\": \"Active\",\n    \"organization_guid\": \"N/A\",\n    \"region\": \"us-south\",\n    \"account\": {\n      \"id\": \"97519b8711174ede96322016af77eba0\",\n      \"name\": \"Sahithi Poladi's Account\",\n      \"type\": \"STANDARD\"\n    },\n    \"owner\": {\n      \"ibm_id\": \"50HKSGCB6X\",\n      \"email\": \"sahithi.ku.2013@gmail.com\",\n      \"user_id\": \"6c193858-2141-4ef7-a896-18f44a0817ae\",\n      \"country_code\": \"USA\",\n      \"beta_user\": false\n    },\n    \"deployments\": {\n      \"url\": \"https://us-south.ml.cloud.ibm.com/v3/wml_instances/d61cc0d7-b448-4a3f-965b-7dbfc7a2f931/deployments\"\n    },\n    \"space_guid\": \"N/A\",\n    \"plan\": \"lite\"\n  }\n}\n"
                }
            ], 
            "source": "endpoint_instance = service_path + \"/v3/wml_instances/\" + instance_id\nheader = {'Content-Type': 'application/json', 'Authorization': 'Bearer ' + mltoken}\nresponse_get_instance = requests.get(endpoint_instance, headers=header)\nprint(response_get_instance)\nprint(response_get_instance.text)"
        }, 
        {
            "execution_count": 66, 
            "cell_type": "code", 
            "metadata": {}, 
            "outputs": [
                {
                    "output_type": "stream", 
                    "name": "stdout", 
                    "text": "https://us-south.ml.cloud.ibm.com/v3/wml_instances/d61cc0d7-b448-4a3f-965b-7dbfc7a2f931/published_models\n"
                }
            ], 
            "source": "endpoint_published_models = json.loads(response_get_instance.text).get('entity').get('published_models').get('url')\nprint(endpoint_published_models)"
        }, 
        {
            "execution_count": 67, 
            "cell_type": "code", 
            "metadata": {}, 
            "outputs": [
                {
                    "output_type": "stream", 
                    "name": "stdout", 
                    "text": "<Response [200]>\n{\n  \"limit\": 1000,\n  \"resources\": [{\n    \"metadata\": {\n      \"guid\": \"0e5b0cf6-3e1b-4212-853e-ef5eb9be2e8c\",\n      \"url\": \"https://us-south.ml.cloud.ibm.com/v3/wml_instances/d61cc0d7-b448-4a3f-965b-7dbfc7a2f931/published_models/0e5b0cf6-3e1b-4212-853e-ef5eb9be2e8c\",\n      \"created_at\": \"2019-02-07T02:39:54.239Z\",\n      \"modified_at\": \"2019-02-07T02:39:55.364Z\"\n    },\n    \"entity\": {\n      \"runtime_environment\": \"spark-2.3\",\n      \"learning_configuration_url\": \"https://us-south.ml.cloud.ibm.com/v3/wml_instances/d61cc0d7-b448-4a3f-965b-7dbfc7a2f931/published_models/0e5b0cf6-3e1b-4212-853e-ef5eb9be2e8c/learning_configuration\",\n      \"name\": \"Product Line prediction\",\n      \"label_col\": \"PRODUCT_LINE\",\n      \"learning_iterations_url\": \"https://us-south.ml.cloud.ibm.com/v3/wml_instances/d61cc0d7-b448-4a3f-965b-7dbfc7a2f931/published_models/0e5b0cf6-3e1b-4212-853e-ef5eb9be2e8c/learning_iterations\",\n      \"training_data_schema\": {\n        \"fields\": [{\n          \"type\": \"string\",\n          \"metadata\": {\n\n          },\n          \"name\": \"PRODUCT_LINE\",\n          \"nullable\": true\n        }, {\n          \"type\": \"string\",\n          \"metadata\": {\n\n          },\n          \"name\": \"GENDER\",\n          \"nullable\": true\n        }, {\n          \"type\": \"integer\",\n          \"metadata\": {\n\n          },\n          \"name\": \"AGE\",\n          \"nullable\": true\n        }, {\n          \"type\": \"string\",\n          \"metadata\": {\n\n          },\n          \"name\": \"MARITAL_STATUS\",\n          \"nullable\": true\n        }, {\n          \"type\": \"string\",\n          \"metadata\": {\n\n          },\n          \"name\": \"PROFESSION\",\n          \"nullable\": true\n        }],\n        \"type\": \"struct\"\n      },\n      \"feedback_url\": \"https://us-south.ml.cloud.ibm.com/v3/wml_instances/d61cc0d7-b448-4a3f-965b-7dbfc7a2f931/published_models/0e5b0cf6-3e1b-4212-853e-ef5eb9be2e8c/feedback\",\n      \"latest_version\": {\n        \"url\": \"https://us-south.ml.cloud.ibm.com/v3/ml_assets/models/0e5b0cf6-3e1b-4212-853e-ef5eb9be2e8c/versions/93fcb833-56aa-45ee-8b7b-083b8a53df9f\",\n        \"guid\": \"93fcb833-56aa-45ee-8b7b-083b8a53df9f\",\n        \"created_at\": \"2019-02-07T02:39:55.364Z\"\n      },\n      \"model_type\": \"mllib-2.3\",\n      \"deployments\": {\n        \"count\": 0,\n        \"url\": \"https://us-south.ml.cloud.ibm.com/v3/wml_instances/d61cc0d7-b448-4a3f-965b-7dbfc7a2f931/published_models/0e5b0cf6-3e1b-4212-853e-ef5eb9be2e8c/deployments\"\n      },\n      \"evaluation_metrics_url\": \"https://us-south.ml.cloud.ibm.com/v3/wml_instances/d61cc0d7-b448-4a3f-965b-7dbfc7a2f931/published_models/0e5b0cf6-3e1b-4212-853e-ef5eb9be2e8c/evaluation_metrics\",\n      \"input_data_schema\": {\n        \"fields\": [{\n          \"type\": \"string\",\n          \"metadata\": {\n\n          },\n          \"name\": \"GENDER\",\n          \"nullable\": true\n        }, {\n          \"type\": \"integer\",\n          \"metadata\": {\n\n          },\n          \"name\": \"AGE\",\n          \"nullable\": true\n        }, {\n          \"type\": \"string\",\n          \"metadata\": {\n\n          },\n          \"name\": \"MARITAL_STATUS\",\n          \"nullable\": true\n        }, {\n          \"type\": \"string\",\n          \"metadata\": {\n\n          },\n          \"name\": \"PROFESSION\",\n          \"nullable\": true\n        }],\n        \"type\": \"struct\"\n      }\n    }\n  }],\n  \"first\": {\n    \"url\": \"https://us-south.ml.cloud.ibm.com/v3/wml_instances/d61cc0d7-b448-4a3f-965b-7dbfc7a2f931/published_models?limit=1000\"\n  }\n}\n"
                }
            ], 
            "source": "header = {'Content-Type': 'application/json', 'Authorization': 'Bearer ' + mltoken}\nresponse_get = requests.get(endpoint_published_models, headers=header)\nprint(response_get)\nprint(response_get.text)"
        }, 
        {
            "execution_count": null, 
            "cell_type": "code", 
            "metadata": {}, 
            "outputs": [], 
            "source": ""
        }
    ], 
    "metadata": {
        "kernelspec": {
            "display_name": "Python 3.5 with Spark", 
            "name": "python3", 
            "language": "python3"
        }, 
        "language_info": {
            "mimetype": "text/x-python", 
            "nbconvert_exporter": "python", 
            "version": "3.5.4", 
            "name": "python", 
            "file_extension": ".py", 
            "pygments_lexer": "ipython3", 
            "codemirror_mode": {
                "version": 3, 
                "name": "ipython"
            }
        }
    }, 
    "nbformat": 4
}